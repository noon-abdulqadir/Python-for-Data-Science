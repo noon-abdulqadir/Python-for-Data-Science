{
 "cells": [
  {
   "cell_type": "markdown",
   "metadata": {},
   "source": [
    "For more, go to:\n",
    "https://www.youtube.com/watch?time_continue=5392&v=JMxbypF825w"
   ]
  },
  {
   "cell_type": "markdown",
   "metadata": {},
   "source": [
    "### Artifical Neurons"
   ]
  },
  {
   "cell_type": "markdown",
   "metadata": {},
   "source": [
    "Rosenblat's Perceptron is an artifical neuron, the forefather of Neural Networks. They failed because they couldn't work with with X OR gates (explained at the end) and Neural Networks are called \"Universal Function Approximators\"."
   ]
  },
  {
   "cell_type": "code",
   "execution_count": 1,
   "metadata": {
    "ExecuteTime": {
     "end_time": "2020-04-18T23:47:28.157596Z",
     "start_time": "2020-04-18T23:47:27.408717Z"
    }
   },
   "outputs": [],
   "source": [
    "from random import choice\n",
    "from numpy import array, dot, random\n",
    "import numpy as np\n",
    "import pandas as pd"
   ]
  },
  {
   "cell_type": "code",
   "execution_count": 2,
   "metadata": {
    "ExecuteTime": {
     "end_time": "2020-04-18T23:47:28.179945Z",
     "start_time": "2020-04-18T23:47:28.165518Z"
    }
   },
   "outputs": [
    {
     "name": "stdout",
     "output_type": "stream",
     "text": [
      "[1. 1.]\n",
      "[(array([0, 0]), 0), (array([0, 1]), 0), (array([1, 0]), 0), (array([1, 1]), 1)]\n",
      "------------------------------------------------------------\n",
      "[0 0]: 0.0 -> 0\n",
      "[0 1]: 1.0 -> 0\n",
      "[1 0]: 1.0 -> 0\n",
      "[1 1]: 2.0 -> 1\n"
     ]
    }
   ],
   "source": [
    "#MC Neuron for And Gate\n",
    "\n",
    "w = random.rand(2)\n",
    "w[0] = 1\n",
    "w[1] = 1\n",
    "print(w)\n",
    "\n",
    "training_data = [\n",
    "    (array([0,0]), 0),\n",
    "    (array([0,1]), 0),\n",
    "    (array([1,0]), 0),\n",
    "    (array([1,1]), 1),]\n",
    "\n",
    "print(training_data)\n",
    "\n",
    "step_function = lambda x: 0 if x < 2 else 1 #Step function with threashold of 2. Anything below is 0\n",
    "\n",
    "print(\"-\"* 60)\n",
    "\n",
    "for x, _ in training_data:\n",
    "    result = dot(x, w)\n",
    "    \n",
    "    print(\"{}: {} -> {}\".format(x[:2],result,step_function(result)))"
   ]
  },
  {
   "cell_type": "code",
   "execution_count": 3,
   "metadata": {
    "ExecuteTime": {
     "end_time": "2020-04-18T23:47:28.206032Z",
     "start_time": "2020-04-18T23:47:28.190871Z"
    }
   },
   "outputs": [
    {
     "name": "stdout",
     "output_type": "stream",
     "text": [
      "[1. 1.]\n",
      "[(array([0, 0]), 0), (array([0, 1]), 1), (array([1, 0]), 1), (array([1, 1]), 1)]\n",
      "------------------------------------------------------------\n",
      "[0 0]: 0.0 -> 0\n",
      "[0 1]: 1.0 -> 1\n",
      "[1 0]: 1.0 -> 1\n",
      "[1 1]: 2.0 -> 1\n"
     ]
    }
   ],
   "source": [
    "#MC Neuron for Or Gate\n",
    "\n",
    "w = random.rand(2)\n",
    "w[0] = 1\n",
    "w[1] = 1\n",
    "print(w)\n",
    "\n",
    "training_data = [\n",
    "    (array([0,0]), 0),\n",
    "    (array([0,1]), 1),\n",
    "    (array([1,0]), 1),\n",
    "    (array([1,1]), 1),]\n",
    "\n",
    "print(training_data)\n",
    "\n",
    "step_function = lambda x: 0 if x < 1 else 1 #Step function with threashold of 1. Anything below is 0\n",
    "\n",
    "print(\"-\"* 60)\n",
    "\n",
    "for x, _ in training_data:\n",
    "    result = dot(x, w)\n",
    "    \n",
    "    print(\"{}: {} -> {}\".format(x[:2],result,step_function(result)))"
   ]
  },
  {
   "cell_type": "code",
   "execution_count": 4,
   "metadata": {
    "ExecuteTime": {
     "end_time": "2020-04-18T23:47:28.226908Z",
     "start_time": "2020-04-18T23:47:28.211788Z"
    }
   },
   "outputs": [
    {
     "name": "stdout",
     "output_type": "stream",
     "text": [
      "[1. 1.]\n",
      "[(array([0, 0]), 1), (array([0, 1]), 1), (array([1, 0]), 1), (array([1, 1]), 0)]\n",
      "------------------------------------------------------------\n",
      "[0 0]: 0.0 -> 1\n",
      "[0 1]: 1.0 -> 1\n",
      "[1 0]: 1.0 -> 1\n",
      "[1 1]: 2.0 -> 0\n"
     ]
    }
   ],
   "source": [
    " #MC Neuron for NAND Gate\n",
    "\n",
    "w = random.rand(2)\n",
    "w[0] = 1\n",
    "w[1] = 1\n",
    "print(w)\n",
    "\n",
    "training_data = [\n",
    "    (array([0,0]), 1),\n",
    "    (array([0,1]), 1),\n",
    "    (array([1,0]), 1),\n",
    "    (array([1,1]), 0),]\n",
    "print(training_data)\n",
    "\n",
    "step_function = lambda x: 0 if x >= 2 else 1 #Step function with threashold of > 2 is 0.\n",
    "\n",
    "print(\"-\"* 60)\n",
    "\n",
    "for x, _ in training_data:\n",
    "    result = dot(x, w)\n",
    "    \n",
    "    print(\"{}: {} -> {}\".format(x[:2],result,step_function(result)))"
   ]
  },
  {
   "cell_type": "markdown",
   "metadata": {
    "ExecuteTime": {
     "end_time": "2020-04-18T01:33:13.892282Z",
     "start_time": "2020-04-18T01:33:13.876499Z"
    }
   },
   "source": [
    "Rosenblat's Perceptron included a way to adjust the weights and find the appropriate combination \n",
    "to overcome the need to modify threasholds for each gate separately, it used a bias term using\n",
    "neuron can be modified to implement multiple Boolean functions in one code"
   ]
  },
  {
   "cell_type": "code",
   "execution_count": 5,
   "metadata": {
    "ExecuteTime": {
     "end_time": "2020-04-18T23:47:28.613394Z",
     "start_time": "2020-04-18T23:47:28.234971Z"
    }
   },
   "outputs": [
    {
     "name": "stdout",
     "output_type": "stream",
     "text": [
      "[(array([0, 0, 1]), 0), (array([0, 1, 1]), 0), (array([1, 0, 1]), 0), (array([1, 1, 1]), 1)]\n",
      "------------------------------------------------------------\n",
      "[0 0 1]: 16.978011479642777 -> 0\n",
      "[0 1 1]: 33.20264844849501 -> 0\n",
      "[1 0 1]: 33.92184631480911 -> 0\n",
      "[1 1 1]: 50.14648328366134 -> 1\n",
      "Weights:  [16.94383484 16.22463697 16.97801148]\n"
     ]
    }
   ],
   "source": [
    "# Rosenblat's Neuron\n",
    "\n",
    "step_function = lambda x: 0 if x < 50 else 1 #Step function with threashold of 0.5. Anything below is 0.\n",
    "\n",
    "training_data = [\n",
    "    (array([0,0,1]), 0),\n",
    "    (array([0,1,1]), 0),\n",
    "    (array([1,0,1]), 0),\n",
    "    (array([1,1,1]), 1),]\n",
    "\n",
    "print(training_data)\n",
    "\n",
    "w = random.rand(3)\n",
    "b = .1        # initializing bias term\n",
    "errors = []\n",
    "eta = 0.1     # learning rate\n",
    "n = 10000\n",
    "\n",
    "for i in range(n):\n",
    "    x, expected = choice(training_data)\n",
    "    \n",
    "    #w = np.append(w,b)\n",
    "    \n",
    "    result = dot(w,x)\n",
    "    error = expected - step_function(result)   # irrespective of what threashold we set, the algorithm\n",
    "    errors.append(error)\n",
    "    w += eta * error * x\n",
    "\n",
    "print(\"-\"* 60)    \n",
    "\n",
    "for x, _ in training_data:\n",
    "    result = dot(x, w)\n",
    "    \n",
    "    print(\"{}: {} -> {}\".format(x[:3],result,step_function(result)))\n",
    "\n",
    "print(\"Weights: \",w)"
   ]
  },
  {
   "cell_type": "markdown",
   "metadata": {
    "ExecuteTime": {
     "end_time": "2020-04-18T01:33:14.270084Z",
     "start_time": "2020-04-18T01:33:14.239948Z"
    }
   },
   "source": [
    "Rosenblat's Perceptron will never work for X OR Gate because it cannot separate non-linear classes (in 2-D).\n",
    "\n",
    "X OR gate:\n",
    "```python\n",
    "training_data = [\n",
    "    (array([0,0,1]), 1),\n",
    "    (array([0,1,1]), 0),\n",
    "    (array([1,0,1]), 0),\n",
    "    (array([1,1,1]), 1),]```\n",
    "\n",
    "However many times the below code is run, it will never get the correct answer two times in a row."
   ]
  },
  {
   "cell_type": "code",
   "execution_count": 6,
   "metadata": {
    "ExecuteTime": {
     "end_time": "2020-04-18T23:47:28.759704Z",
     "start_time": "2020-04-18T23:47:28.620824Z"
    }
   },
   "outputs": [
    {
     "name": "stdout",
     "output_type": "stream",
     "text": [
      "[(array([0, 0, 1]), 1), (array([0, 1, 1]), 0), (array([1, 0, 1]), 0), (array([1, 1, 1]), 1)]\n",
      "------------------------------------------------------------\n",
      "[0 0 1]: 49.85570418884124 -> 0\n",
      "[0 1 1]: 49.92591829876885 -> 0\n",
      "[1 0 1]: 49.96985366209492 -> 0\n",
      "[1 1 1]: 50.04006777202253 -> 1\n",
      "Weights:  [ 0.11414947  0.07021411 49.85570419]\n"
     ]
    }
   ],
   "source": [
    "# Rosenblat's Neuron used on X OR Gate\n",
    "\n",
    "step_function = lambda x: 0 if x < 50 else 1 #Step function with threashold of 0.5. Anything below is 0.\n",
    "\n",
    "training_data = [\n",
    "    (array([0,0,1]), 1),\n",
    "    (array([0,1,1]), 0),\n",
    "    (array([1,0,1]), 0),\n",
    "    (array([1,1,1]), 1),]\n",
    "\n",
    "print(training_data)\n",
    "\n",
    "w = random.rand(3)\n",
    "b = .1        # initializing bias term\n",
    "errors = []\n",
    "eta = 0.1     # learning rate\n",
    "n = 10000\n",
    "\n",
    "for i in range(n):\n",
    "    x, expected = choice(training_data)\n",
    "    \n",
    "    #w = np.append(w,b)\n",
    "    \n",
    "    result = dot(w,x)\n",
    "    error = expected - step_function(result)   # irrespective of what threashold we set, the algorithm\n",
    "    errors.append(error)\n",
    "    w += eta * error * x\n",
    "\n",
    "print(\"-\"* 60)    \n",
    "\n",
    "for x, _ in training_data:\n",
    "    result = dot(x, w)\n",
    "    \n",
    "    print(\"{}: {} -> {}\".format(x[:3],result,step_function(result)))\n",
    "\n",
    "print(\"Weights: \",w)"
   ]
  }
 ],
 "metadata": {
  "hide_input": false,
  "jupytext": {
   "formats": "ipynb,py:light"
  },
  "kernelspec": {
   "display_name": "Python 3",
   "language": "python",
   "name": "python3"
  },
  "language_info": {
   "codemirror_mode": {
    "name": "ipython",
    "version": 3
   },
   "file_extension": ".py",
   "mimetype": "text/x-python",
   "name": "python",
   "nbconvert_exporter": "python",
   "pygments_lexer": "ipython3",
   "version": "3.7.6"
  },
  "latex_envs": {
   "LaTeX_envs_menu_present": true,
   "autoclose": false,
   "autocomplete": true,
   "bibliofile": "biblio.bib",
   "cite_by": "apalike",
   "current_citInitial": 1,
   "eqLabelWithNumbers": true,
   "eqNumInitial": 1,
   "hotkeys": {
    "equation": "Ctrl-E",
    "itemize": "Ctrl-I"
   },
   "labels_anchors": false,
   "latex_user_defs": false,
   "report_style_numbering": false,
   "user_envs_cfg": false
  },
  "toc": {
   "base_numbering": 1,
   "nav_menu": {},
   "number_sections": true,
   "sideBar": true,
   "skip_h1_title": false,
   "title_cell": "Table of Contents",
   "title_sidebar": "Contents",
   "toc_cell": false,
   "toc_position": {},
   "toc_section_display": true,
   "toc_window_display": false
  },
  "varInspector": {
   "cols": {
    "lenName": 16,
    "lenType": 16,
    "lenVar": 40
   },
   "kernels_config": {
    "python": {
     "delete_cmd_postfix": "",
     "delete_cmd_prefix": "del ",
     "library": "var_list.py",
     "varRefreshCmd": "print(var_dic_list())"
    },
    "r": {
     "delete_cmd_postfix": ") ",
     "delete_cmd_prefix": "rm(",
     "library": "var_list.r",
     "varRefreshCmd": "cat(var_dic_list()) "
    }
   },
   "types_to_exclude": [
    "module",
    "function",
    "builtin_function_or_method",
    "instance",
    "_Feature"
   ],
   "window_display": false
  }
 },
 "nbformat": 4,
 "nbformat_minor": 4
}
