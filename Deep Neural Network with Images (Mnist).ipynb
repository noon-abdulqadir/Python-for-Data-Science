{
 "cells": [
  {
   "cell_type": "markdown",
   "metadata": {},
   "source": [
    "# Deep Neural Network with Mnist"
   ]
  },
  {
   "cell_type": "code",
   "execution_count": 1,
   "metadata": {
    "ExecuteTime": {
     "end_time": "2020-04-19T23:52:06.958080Z",
     "start_time": "2020-04-19T23:51:59.413873Z"
    }
   },
   "outputs": [
    {
     "ename": "ModuleNotFoundError",
     "evalue": "No module named 'sklearn'",
     "output_type": "error",
     "traceback": [
      "\u001b[0;31m---------------------------------------------------------------------------\u001b[0m",
      "\u001b[0;31mModuleNotFoundError\u001b[0m                       Traceback (most recent call last)",
      "\u001b[0;32m<ipython-input-1-fe3f0da070f5>\u001b[0m in \u001b[0;36m<module>\u001b[0;34m\u001b[0m\n\u001b[1;32m      3\u001b[0m \u001b[0;32mfrom\u001b[0m \u001b[0mmatplotlib\u001b[0m \u001b[0;32mimport\u001b[0m \u001b[0mpyplot\u001b[0m\u001b[0;34m\u001b[0m\u001b[0;34m\u001b[0m\u001b[0m\n\u001b[1;32m      4\u001b[0m \u001b[0;32mfrom\u001b[0m \u001b[0mnumpy\u001b[0m \u001b[0;32mimport\u001b[0m \u001b[0mwhere\u001b[0m\u001b[0;34m\u001b[0m\u001b[0;34m\u001b[0m\u001b[0m\n\u001b[0;32m----> 5\u001b[0;31m \u001b[0;32mfrom\u001b[0m \u001b[0msklearn\u001b[0m\u001b[0;34m.\u001b[0m\u001b[0mmodel_selection\u001b[0m \u001b[0;32mimport\u001b[0m \u001b[0mtrain_test_split\u001b[0m\u001b[0;34m\u001b[0m\u001b[0;34m\u001b[0m\u001b[0m\n\u001b[0m\u001b[1;32m      6\u001b[0m \u001b[0;32mimport\u001b[0m \u001b[0mtensorflow\u001b[0m \u001b[0;32mas\u001b[0m \u001b[0mtf\u001b[0m\u001b[0;34m\u001b[0m\u001b[0;34m\u001b[0m\u001b[0m\n\u001b[1;32m      7\u001b[0m \u001b[0;31m# Tensorflow also has a graph approach (as opposed to keras) which is distributed training and some processes will run in parallel\u001b[0m\u001b[0;34m\u001b[0m\u001b[0;34m\u001b[0m\u001b[0;34m\u001b[0m\u001b[0m\n",
      "\u001b[0;31mModuleNotFoundError\u001b[0m: No module named 'sklearn'"
     ]
    }
   ],
   "source": [
    "import pandas as pd\n",
    "import numpy as np\n",
    "from matplotlib import pyplot\n",
    "from numpy import where\n",
    "from sklearn.model_selection import train_test_split\n",
    "import tensorflow as tf\n",
    "# Tensorflow also has a graph approach (as opposed to keras) which is distributed training and some processes will run in parallel\n",
    "\n",
    "# Using Tensorflow Keras with Mnist, a clean and de-noised dataset, or Fashion_Mnist datasets, a very noisey dataset\n",
    "# Noise is residuals of a model, i.e. unexplained variance in a model\n",
    "\n",
    "%matplotlib inline\n",
    "from tensorflow.keras.datasets import mnist\n",
    "from tensorflow.keras import Sequential\n",
    "from tensorflow.keras.layers import Dense\n",
    "\n",
    "from tensorflow.keras.callbacks import EarlyStopping\n",
    "from tensorflow.keras.layers import BatchNormalization\n",
    "print(tf.__version__)"
   ]
  },
  {
   "cell_type": "code",
   "execution_count": 2,
   "metadata": {
    "ExecuteTime": {
     "end_time": "2020-04-19T23:52:07.499486Z",
     "start_time": "2020-04-19T23:52:06.973212Z"
    }
   },
   "outputs": [],
   "source": [
    "(xtrain,ytrain),(xtest,ytest) = mnist.load_data()\n",
    "# If we want a validation dataset, use train-test split on the xtrain and ytrain"
   ]
  },
  {
   "cell_type": "code",
   "execution_count": 3,
   "metadata": {
    "ExecuteTime": {
     "end_time": "2020-04-19T23:52:07.535116Z",
     "start_time": "2020-04-19T23:52:07.522183Z"
    }
   },
   "outputs": [
    {
     "data": {
      "text/plain": [
       "(60000, 28, 28)"
      ]
     },
     "execution_count": 3,
     "metadata": {},
     "output_type": "execute_result"
    }
   ],
   "source": [
    "xtrain.shape"
   ]
  },
  {
   "cell_type": "code",
   "execution_count": 4,
   "metadata": {
    "ExecuteTime": {
     "end_time": "2020-04-19T23:52:07.899940Z",
     "start_time": "2020-04-19T23:52:07.567058Z"
    }
   },
   "outputs": [
    {
     "data": {
      "text/plain": [
       "<matplotlib.image.AxesImage at 0x1a4ec23c10>"
      ]
     },
     "execution_count": 4,
     "metadata": {},
     "output_type": "execute_result"
    },
    {
     "data": {
      "image/png": "[encoded data removed]",
      "text/plain": [
       "<Figure size 432x288 with 1 Axes>"
      ]
     },
     "metadata": {
      "needs_background": "light"
     },
     "output_type": "display_data"
    }
   ],
   "source": [
    "pyplot.imshow(xtrain[1,:,:],cmap=\"gray\")"
   ]
  },
  {
   "cell_type": "code",
   "execution_count": 5,
   "metadata": {
    "ExecuteTime": {
     "end_time": "2020-04-19T23:52:07.980720Z",
     "start_time": "2020-04-19T23:52:07.905959Z"
    }
   },
   "outputs": [
    {
     "data": {
      "text/plain": [
       "array([5, 0, 4, 1, 9, 2, 1, 3, 1, 4, 3, 5, 3, 6, 1, 7, 2, 8, 6, 9, 4, 0,\n",
       "       9, 1, 1, 2, 4, 3, 2, 7, 3, 8, 6, 9, 0, 5, 6, 0, 7, 6, 1, 8, 7, 9,\n",
       "       3, 9, 8, 5, 9, 3], dtype=uint8)"
      ]
     },
     "execution_count": 5,
     "metadata": {},
     "output_type": "execute_result"
    }
   ],
   "source": [
    "ytrain[:50]"
   ]
  },
  {
   "cell_type": "code",
   "execution_count": 6,
   "metadata": {
    "ExecuteTime": {
     "end_time": "2020-04-19T23:52:08.033202Z",
     "start_time": "2020-04-19T23:52:08.006481Z"
    }
   },
   "outputs": [
    {
     "data": {
      "text/plain": [
       "1    6742\n",
       "7    6265\n",
       "3    6131\n",
       "2    5958\n",
       "9    5949\n",
       "0    5923\n",
       "6    5918\n",
       "8    5851\n",
       "4    5842\n",
       "5    5421\n",
       "Name: 0, dtype: int64"
      ]
     },
     "execution_count": 6,
     "metadata": {},
     "output_type": "execute_result"
    }
   ],
   "source": [
    "L = pd.DataFrame(ytrain)\n",
    "L[0].value_counts()"
   ]
  },
  {
   "cell_type": "code",
   "execution_count": 7,
   "metadata": {
    "ExecuteTime": {
     "end_time": "2020-04-19T23:52:08.259938Z",
     "start_time": "2020-04-19T23:52:08.037851Z"
    }
   },
   "outputs": [],
   "source": [
    "# Represent Training & Testing samples suitable for tensorflow backend, flattening the 28, 28 \n",
    "\n",
    "x_train = xtrain.reshape(xtrain.shape[0],784).astype(\"float32\")\n",
    "x_test = xtest.reshape(xtest.shape[0],784).astype(\"float32\")"
   ]
  },
  {
   "cell_type": "code",
   "execution_count": 8,
   "metadata": {
    "ExecuteTime": {
     "end_time": "2020-04-19T23:52:08.273484Z",
     "start_time": "2020-04-19T23:52:08.263838Z"
    }
   },
   "outputs": [
    {
     "data": {
      "text/plain": [
       "(10000, 784)"
      ]
     },
     "execution_count": 8,
     "metadata": {},
     "output_type": "execute_result"
    }
   ],
   "source": [
    "x_test.shape"
   ]
  },
  {
   "cell_type": "code",
   "execution_count": 9,
   "metadata": {
    "ExecuteTime": {
     "end_time": "2020-04-19T23:52:08.378098Z",
     "start_time": "2020-04-19T23:52:08.293154Z"
    }
   },
   "outputs": [],
   "source": [
    "x_train/=225\n",
    "x_test/=225"
   ]
  },
  {
   "cell_type": "code",
   "execution_count": 10,
   "metadata": {
    "ExecuteTime": {
     "end_time": "2020-04-19T23:52:08.433142Z",
     "start_time": "2020-04-19T23:52:08.418449Z"
    }
   },
   "outputs": [],
   "source": [
    "from tensorflow import keras\n",
    "\n",
    "y_train = keras.utils.to_categorical(ytrain, 10)\n",
    "y_test = keras.utils.to_categorical(ytest, 10)"
   ]
  },
  {
   "cell_type": "code",
   "execution_count": 11,
   "metadata": {
    "ExecuteTime": {
     "end_time": "2020-04-19T23:52:08.500365Z",
     "start_time": "2020-04-19T23:52:08.444071Z"
    }
   },
   "outputs": [],
   "source": [
    "# Initialize the constructor\n",
    "\n",
    "model = Sequential()\n",
    "\n",
    "# Define model architecture\n",
    "\n",
    "model.add(Dense(784,activation=\"relu\"))\n",
    "model.add(Dense(100,activation=\"relu\"))\n",
    "model.add(Dense(10,activation=\"softmax\"))"
   ]
  },
  {
   "cell_type": "code",
   "execution_count": 12,
   "metadata": {
    "ExecuteTime": {
     "end_time": "2020-04-19T23:52:08.549195Z",
     "start_time": "2020-04-19T23:52:08.517672Z"
    }
   },
   "outputs": [],
   "source": [
    "model.compile(loss='categorical_crossentropy',\n",
    "             optimizer=\"adam\", metrics=['accuracy'])\n",
    "\n",
    "epochs = 20\n",
    "batch_size = 20000"
   ]
  },
  {
   "cell_type": "code",
   "execution_count": 13,
   "metadata": {
    "ExecuteTime": {
     "end_time": "2020-04-19T23:52:53.940497Z",
     "start_time": "2020-04-19T23:52:08.562088Z"
    }
   },
   "outputs": [
    {
     "name": "stdout",
     "output_type": "stream",
     "text": [
      "Train on 54000 samples, validate on 6000 samples\n",
      "Epoch 1/20\n",
      "54000/54000 [==============================] - 4s 66us/sample - loss: 2.0796 - accuracy: 0.3790 - val_loss: 1.4062 - val_accuracy: 0.7802\n",
      "Epoch 2/20\n",
      "54000/54000 [==============================] - 2s 39us/sample - loss: 1.2359 - accuracy: 0.7602 - val_loss: 0.7530 - val_accuracy: 0.8495\n",
      "Epoch 3/20\n",
      "54000/54000 [==============================] - 2s 38us/sample - loss: 0.7253 - accuracy: 0.8245 - val_loss: 0.4664 - val_accuracy: 0.8823\n",
      "Epoch 4/20\n",
      "54000/54000 [==============================] - 2s 38us/sample - loss: 0.5074 - accuracy: 0.8566 - val_loss: 0.3491 - val_accuracy: 0.9067\n",
      "Epoch 5/20\n",
      "54000/54000 [==============================] - 2s 37us/sample - loss: 0.4115 - accuracy: 0.8825 - val_loss: 0.3009 - val_accuracy: 0.9148\n",
      "Epoch 6/20\n",
      "54000/54000 [==============================] - 2s 37us/sample - loss: 0.3631 - accuracy: 0.8950 - val_loss: 0.2694 - val_accuracy: 0.9193\n",
      "Epoch 7/20\n",
      "54000/54000 [==============================] - 2s 37us/sample - loss: 0.3291 - accuracy: 0.9042 - val_loss: 0.2466 - val_accuracy: 0.9308\n",
      "Epoch 8/20\n",
      "54000/54000 [==============================] - 2s 37us/sample - loss: 0.2999 - accuracy: 0.9137 - val_loss: 0.2240 - val_accuracy: 0.9372\n",
      "Epoch 9/20\n",
      "54000/54000 [==============================] - 2s 38us/sample - loss: 0.2752 - accuracy: 0.9204 - val_loss: 0.2105 - val_accuracy: 0.9398\n",
      "Epoch 10/20\n",
      "54000/54000 [==============================] - 2s 46us/sample - loss: 0.2555 - accuracy: 0.9265 - val_loss: 0.1939 - val_accuracy: 0.9468\n",
      "Epoch 11/20\n",
      "54000/54000 [==============================] - 2s 37us/sample - loss: 0.2389 - accuracy: 0.9318 - val_loss: 0.1851 - val_accuracy: 0.9477\n",
      "Epoch 12/20\n",
      "54000/54000 [==============================] - 2s 37us/sample - loss: 0.2241 - accuracy: 0.9354 - val_loss: 0.1738 - val_accuracy: 0.9507\n",
      "Epoch 13/20\n",
      "54000/54000 [==============================] - 2s 37us/sample - loss: 0.2113 - accuracy: 0.9401 - val_loss: 0.1677 - val_accuracy: 0.9545\n",
      "Epoch 14/20\n",
      "54000/54000 [==============================] - 2s 36us/sample - loss: 0.1998 - accuracy: 0.9427 - val_loss: 0.1585 - val_accuracy: 0.9547\n",
      "Epoch 15/20\n",
      "54000/54000 [==============================] - 2s 37us/sample - loss: 0.1887 - accuracy: 0.9465 - val_loss: 0.1523 - val_accuracy: 0.9577\n",
      "Epoch 16/20\n",
      "54000/54000 [==============================] - 2s 38us/sample - loss: 0.1791 - accuracy: 0.9493 - val_loss: 0.1461 - val_accuracy: 0.9607\n",
      "Epoch 17/20\n",
      "54000/54000 [==============================] - 2s 36us/sample - loss: 0.1700 - accuracy: 0.9516 - val_loss: 0.1413 - val_accuracy: 0.9620\n",
      "Epoch 18/20\n",
      "54000/54000 [==============================] - 2s 38us/sample - loss: 0.1622 - accuracy: 0.9544 - val_loss: 0.1360 - val_accuracy: 0.9635\n",
      "Epoch 19/20\n",
      "54000/54000 [==============================] - 3s 50us/sample - loss: 0.1547 - accuracy: 0.9567 - val_loss: 0.1321 - val_accuracy: 0.9637\n",
      "Epoch 20/20\n",
      "54000/54000 [==============================] - 2s 46us/sample - loss: 0.1475 - accuracy: 0.9584 - val_loss: 0.1287 - val_accuracy: 0.9647\n"
     ]
    }
   ],
   "source": [
    "history = model.fit(x_train, y_train, batch_size=batch_size,\n",
    "                    epochs=epochs, callbacks=[EarlyStopping(monitor='val_loss', patience=3)],\n",
    "                    validation_split=0.1, verbose=True)\n",
    "loss,accuracy = model.evaluate(x_test, y_test,verbose=False)"
   ]
  },
  {
   "cell_type": "code",
   "execution_count": 14,
   "metadata": {
    "ExecuteTime": {
     "end_time": "2020-04-19T23:52:53.983605Z",
     "start_time": "2020-04-19T23:52:53.944607Z"
    }
   },
   "outputs": [
    {
     "name": "stdout",
     "output_type": "stream",
     "text": [
      "Model: \"sequential\"\n",
      "_________________________________________________________________\n",
      "Layer (type)                 Output Shape              Param #   \n",
      "=================================================================\n",
      "dense (Dense)                multiple                  615440    \n",
      "_________________________________________________________________\n",
      "dense_1 (Dense)              multiple                  78500     \n",
      "_________________________________________________________________\n",
      "dense_2 (Dense)              multiple                  1010      \n",
      "=================================================================\n",
      "Total params: 694,950\n",
      "Trainable params: 694,950\n",
      "Non-trainable params: 0\n",
      "_________________________________________________________________\n"
     ]
    }
   ],
   "source": [
    "model.summary()"
   ]
  },
  {
   "cell_type": "code",
   "execution_count": 15,
   "metadata": {
    "ExecuteTime": {
     "end_time": "2020-04-19T23:52:54.305692Z",
     "start_time": "2020-04-19T23:52:53.990500Z"
    }
   },
   "outputs": [
    {
     "name": "stdout",
     "output_type": "stream",
     "text": [
      "[0.37898147, 0.76024073, 0.8245, 0.8565556, 0.88248146, 0.895, 0.90416664, 0.91374075, 0.9204074, 0.9265, 0.9318148, 0.93538886, 0.94005555, 0.9427037, 0.946537, 0.9493333, 0.9515741, 0.95442593, 0.95666665, 0.9584444]\n",
      "[0.7801667, 0.8495, 0.88233334, 0.9066667, 0.9148333, 0.91933334, 0.93083334, 0.9371667, 0.93983334, 0.9468333, 0.94766665, 0.95066667, 0.9545, 0.9546667, 0.9576667, 0.96066666, 0.962, 0.9635, 0.9636667, 0.96466666]\n"
     ]
    },
    {
     "data": {
      "text/plain": [
       "<matplotlib.axes._subplots.AxesSubplot at 0x1a5e3a0390>"
      ]
     },
     "execution_count": 15,
     "metadata": {},
     "output_type": "execute_result"
    },
    {
     "data": {
      "image/png": "[encoded data removed]",
      "text/plain": [
       "<Figure size 432x288 with 1 Axes>"
      ]
     },
     "metadata": {
      "needs_background": "light"
     },
     "output_type": "display_data"
    }
   ],
   "source": [
    "print(history.history[\"accuracy\"])\n",
    "print(history.history[\"val_accuracy\"])\n",
    "\n",
    "ta = pd.DataFrame(history.history[\"accuracy\"])\n",
    "va = pd.DataFrame(history.history[\"val_accuracy\"])\n",
    "\n",
    "tva = pd.concat([ta,va], axis=1)\n",
    "\n",
    "tva.boxplot()"
   ]
  },
  {
   "cell_type": "code",
   "execution_count": 16,
   "metadata": {
    "ExecuteTime": {
     "end_time": "2020-04-19T23:53:05.667295Z",
     "start_time": "2020-04-19T23:52:54.311958Z"
    }
   },
   "outputs": [
    {
     "name": "stdout",
     "output_type": "stream",
     "text": [
      "Test Accuracy: 0.956\n",
      "Test Loss: 0.151\n",
      "Train Accuracy: 0.961\n",
      "Train Loss: 0.141\n"
     ]
    }
   ],
   "source": [
    "loss,acc = model.evaluate(x_test, y_test, verbose=0)\n",
    "print(\"Test Accuracy: %.3f\"%acc)\n",
    "print(\"Test Loss: %.3f\"%loss) # Loss is error\n",
    "\n",
    "loss,acc = model.evaluate(x_train, y_train, verbose=0)\n",
    "print(\"Train Accuracy: %.3f\"%acc)\n",
    "print(\"Train Loss: %.3f\"%loss)"
   ]
  },
  {
   "cell_type": "code",
   "execution_count": 17,
   "metadata": {
    "ExecuteTime": {
     "end_time": "2020-04-19T23:53:06.975681Z",
     "start_time": "2020-04-19T23:53:05.673308Z"
    }
   },
   "outputs": [],
   "source": [
    "y_predict = model.predict(x_test)"
   ]
  },
  {
   "cell_type": "code",
   "execution_count": 18,
   "metadata": {
    "ExecuteTime": {
     "end_time": "2020-04-19T23:53:07.034080Z",
     "start_time": "2020-04-19T23:53:06.978219Z"
    }
   },
   "outputs": [
    {
     "data": {
      "text/plain": [
       "array([9.5141759e-06, 3.4305808e-07, 9.7183416e-05, 2.0422349e-03,\n",
       "       1.0045854e-06, 1.9923797e-05, 2.6087019e-08, 9.9772745e-01,\n",
       "       5.2580417e-06, 9.7014243e-05], dtype=float32)"
      ]
     },
     "execution_count": 18,
     "metadata": {},
     "output_type": "execute_result"
    }
   ],
   "source": [
    "y_predict[0]"
   ]
  },
  {
   "cell_type": "code",
   "execution_count": 19,
   "metadata": {
    "ExecuteTime": {
     "end_time": "2020-04-19T23:53:07.120925Z",
     "start_time": "2020-04-19T23:53:07.059138Z"
    }
   },
   "outputs": [
    {
     "data": {
      "text/plain": [
       "7"
      ]
     },
     "execution_count": 19,
     "metadata": {},
     "output_type": "execute_result"
    }
   ],
   "source": [
    "np.argmax(y_predict[0])"
   ]
  },
  {
   "cell_type": "code",
   "execution_count": 20,
   "metadata": {
    "ExecuteTime": {
     "end_time": "2020-04-19T23:53:07.295427Z",
     "start_time": "2020-04-19T23:53:07.126496Z"
    }
   },
   "outputs": [
    {
     "name": "stdout",
     "output_type": "stream",
     "text": [
      "[[ 963    0    1    1    0    3    8    3    1    0]\n",
      " [   0 1118    3    1    0    1    3    2    7    0]\n",
      " [   5    1  982   11    4    1    5    7   15    1]\n",
      " [   0    1   11  965    0    8    1   10   11    3]\n",
      " [   1    1    8    0  940    0    6    4    2   20]\n",
      " [   5    1    0   18    2  838   12    1    9    6]\n",
      " [   7    3    3    0    6   10  923    2    4    0]\n",
      " [   1   11   15    5    2    1    0  979    2   12]\n",
      " [   4    3    5   18    5    7   10   11  907    4]\n",
      " [   8    6    2   12   19    5    1    8    6  942]]\n"
     ]
    }
   ],
   "source": [
    "y_pred = []\n",
    "\n",
    "for val in y_predict:\n",
    "    y_pred.append(np.argmax(val))\n",
    "\n",
    "#print(y_pred)\n",
    "\n",
    "# Convert 0 1 to 1 and 1 0 to 0\n",
    "from sklearn import metrics\n",
    "\n",
    "cm = metrics.confusion_matrix(ytest,y_pred)\n",
    "print(cm)"
   ]
  },
  {
   "cell_type": "code",
   "execution_count": 21,
   "metadata": {
    "ExecuteTime": {
     "end_time": "2020-04-19T23:53:08.205948Z",
     "start_time": "2020-04-19T23:53:07.315990Z"
    }
   },
   "outputs": [
    {
     "data": {
      "text/plain": [
       "<matplotlib.axes._subplots.AxesSubplot at 0x1aa1c96c10>"
      ]
     },
     "execution_count": 21,
     "metadata": {},
     "output_type": "execute_result"
    },
    {
     "data": {
      "image/png": "[encoded data removed]",
      "text/plain": [
       "<Figure size 720x432 with 2 Axes>"
      ]
     },
     "metadata": {
      "needs_background": "light"
     },
     "output_type": "display_data"
    }
   ],
   "source": [
    "import seaborn as sns\n",
    "\n",
    "pyplot.figure(figsize=(10,6))  \n",
    "sns.heatmap(cm, annot=True)"
   ]
  },
  {
   "cell_type": "code",
   "execution_count": 22,
   "metadata": {
    "ExecuteTime": {
     "end_time": "2020-04-19T23:53:08.601075Z",
     "start_time": "2020-04-19T23:53:08.208928Z"
    }
   },
   "outputs": [
    {
     "data": {
      "text/plain": [
       "<matplotlib.legend.Legend at 0x1aa20c8d10>"
      ]
     },
     "execution_count": 22,
     "metadata": {},
     "output_type": "execute_result"
    },
    {
     "data": {
      "image/png": "[encoded data removed]",
      "text/plain": [
       "<Figure size 432x288 with 1 Axes>"
      ]
     },
     "metadata": {
      "needs_background": "light"
     },
     "output_type": "display_data"
    }
   ],
   "source": [
    "%matplotlib inline\n",
    "\n",
    "# Plot loss during training\n",
    "pyplot.subplot(211)\n",
    "pyplot.title(\"Loss\")\n",
    "pyplot.plot(history.history[\"loss\"], label = \"Train\")\n",
    "pyplot.legend()"
   ]
  }
 ],
 "metadata": {
  "hide_input": false,
  "jupytext": {
   "formats": "ipynb,py:light"
  },
  "kernelspec": {
   "display_name": "Python 3.9",
   "language": "python",
   "name": "python3"
  },
  "language_info": {
   "codemirror_mode": {
    "name": "ipython",
    "version": 3
   },
   "file_extension": ".py",
   "mimetype": "text/x-python",
   "name": "python",
   "nbconvert_exporter": "python",
   "pygments_lexer": "ipython3",
   "version": "3.9.0"
  },
  "latex_envs": {
   "LaTeX_envs_menu_present": true,
   "autoclose": false,
   "autocomplete": true,
   "bibliofile": "biblio.bib",
   "cite_by": "apalike",
   "current_citInitial": 1,
   "eqLabelWithNumbers": true,
   "eqNumInitial": 1,
   "hotkeys": {
    "equation": "Ctrl-E",
    "itemize": "Ctrl-I"
   },
   "labels_anchors": false,
   "latex_user_defs": false,
   "report_style_numbering": false,
   "user_envs_cfg": false
  },
  "toc": {
   "base_numbering": 1,
   "nav_menu": {},
   "number_sections": true,
   "sideBar": true,
   "skip_h1_title": false,
   "title_cell": "Table of Contents",
   "title_sidebar": "Contents",
   "toc_cell": false,
   "toc_position": {},
   "toc_section_display": true,
   "toc_window_display": false
  },
  "varInspector": {
   "cols": {
    "lenName": 16,
    "lenType": 16,
    "lenVar": 40
   },
   "kernels_config": {
    "python": {
     "delete_cmd_postfix": "",
     "delete_cmd_prefix": "del ",
     "library": "var_list.py",
     "varRefreshCmd": "print(var_dic_list())"
    },
    "r": {
     "delete_cmd_postfix": ") ",
     "delete_cmd_prefix": "rm(",
     "library": "var_list.r",
     "varRefreshCmd": "cat(var_dic_list()) "
    }
   },
   "types_to_exclude": [
    "module",
    "function",
    "builtin_function_or_method",
    "instance",
    "_Feature"
   ],
   "window_display": false
  }
 },
 "nbformat": 4,
 "nbformat_minor": 4
}
