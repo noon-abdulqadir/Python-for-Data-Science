{
 "cells": [
  {
   "cell_type": "code",
   "execution_count": 2,
   "metadata": {
    "ExecuteTime": {
     "end_time": "2020-04-17T18:07:15.024121Z",
     "start_time": "2020-04-17T18:07:15.004254Z"
    }
   },
   "outputs": [
    {
     "name": "stdout",
     "output_type": "stream",
     "text": [
      "This is Spartaaaaa!\n",
      "This is Spartaaaaa!\n",
      "This is Spartaaaaa!\n"
     ]
    }
   ],
   "source": [
    "i = 1\n",
    "\n",
    "while i<=3:\n",
    "    print(\"This is Spartaaaaa!\")\n",
    "    i+=1"
   ]
  },
  {
   "cell_type": "code",
   "execution_count": 4,
   "metadata": {
    "ExecuteTime": {
     "end_time": "2020-04-17T18:14:21.198461Z",
     "start_time": "2020-04-17T18:14:21.184714Z"
    }
   },
   "outputs": [
    {
     "data": {
      "text/plain": [
       "7"
      ]
     },
     "execution_count": 4,
     "metadata": {},
     "output_type": "execute_result"
    }
   ],
   "source": [
    "def add_two_numbers(a,b):\n",
    "    return a+b\n",
    "\n",
    "add_two_numbers(2,5)"
   ]
  },
  {
   "cell_type": "code",
   "execution_count": 7,
   "metadata": {
    "ExecuteTime": {
     "end_time": "2020-04-17T18:28:13.745861Z",
     "start_time": "2020-04-17T18:28:13.738347Z"
    }
   },
   "outputs": [],
   "source": [
    "class Phone:\n",
    "    \n",
    "    def make_call(self):\n",
    "        print(\"Making a phone call.\")\n",
    "    \n",
    "    def play_game(self):\n",
    "        print(\"Playing game.\")"
   ]
  },
  {
   "cell_type": "code",
   "execution_count": 8,
   "metadata": {
    "ExecuteTime": {
     "end_time": "2020-04-17T18:28:24.311288Z",
     "start_time": "2020-04-17T18:28:24.302153Z"
    }
   },
   "outputs": [],
   "source": [
    "p1 = Phone()"
   ]
  },
  {
   "cell_type": "code",
   "execution_count": 10,
   "metadata": {
    "ExecuteTime": {
     "end_time": "2020-04-17T18:28:52.137121Z",
     "start_time": "2020-04-17T18:28:52.129668Z"
    }
   },
   "outputs": [
    {
     "name": "stdout",
     "output_type": "stream",
     "text": [
      "Making a phone call.\n"
     ]
    }
   ],
   "source": [
    "p1.make_call()"
   ]
  },
  {
   "cell_type": "code",
   "execution_count": 11,
   "metadata": {
    "ExecuteTime": {
     "end_time": "2020-04-17T18:29:04.605540Z",
     "start_time": "2020-04-17T18:29:04.600573Z"
    }
   },
   "outputs": [
    {
     "name": "stdout",
     "output_type": "stream",
     "text": [
      "Playing game.\n"
     ]
    }
   ],
   "source": [
    "p1.play_game()"
   ]
  },
  {
   "cell_type": "code",
   "execution_count": 21,
   "metadata": {
    "ExecuteTime": {
     "end_time": "2020-04-17T18:35:35.290397Z",
     "start_time": "2020-04-17T18:35:35.283455Z"
    }
   },
   "outputs": [],
   "source": [
    "# new class\n",
    "\n",
    "class Phone:\n",
    "    \n",
    "    def add_colour(self,colour):\n",
    "        self.colour = colour\n",
    "    \n",
    "    def add_cost(self,cost):\n",
    "        self.cost = cost\n",
    "    \n",
    "    def show_colour(self):\n",
    "        return self.colour\n",
    "    \n",
    "    def show_cost(self):\n",
    "        return self.cost\n",
    "    \n",
    "    def make_call(self):\n",
    "        print(\"Making a phone call.\")\n",
    "    \n",
    "    def play_game(self):\n",
    "        print(\"Playing game.\")"
   ]
  },
  {
   "cell_type": "code",
   "execution_count": 22,
   "metadata": {
    "ExecuteTime": {
     "end_time": "2020-04-17T18:35:35.846935Z",
     "start_time": "2020-04-17T18:35:35.843683Z"
    }
   },
   "outputs": [],
   "source": [
    "p2 = Phone()"
   ]
  },
  {
   "cell_type": "code",
   "execution_count": 23,
   "metadata": {
    "ExecuteTime": {
     "end_time": "2020-04-17T18:35:36.297989Z",
     "start_time": "2020-04-17T18:35:36.294016Z"
    }
   },
   "outputs": [],
   "source": [
    "p2.add_colour(\"blue\")\n",
    "p2.add_cost(200)"
   ]
  },
  {
   "cell_type": "code",
   "execution_count": 24,
   "metadata": {
    "ExecuteTime": {
     "end_time": "2020-04-17T18:35:36.911406Z",
     "start_time": "2020-04-17T18:35:36.906145Z"
    }
   },
   "outputs": [
    {
     "data": {
      "text/plain": [
       "'blue'"
      ]
     },
     "execution_count": 24,
     "metadata": {},
     "output_type": "execute_result"
    }
   ],
   "source": [
    "p2.show_colour()"
   ]
  },
  {
   "cell_type": "code",
   "execution_count": 25,
   "metadata": {
    "ExecuteTime": {
     "end_time": "2020-04-17T18:35:47.359008Z",
     "start_time": "2020-04-17T18:35:47.336425Z"
    }
   },
   "outputs": [
    {
     "data": {
      "text/plain": [
       "200"
      ]
     },
     "execution_count": 25,
     "metadata": {},
     "output_type": "execute_result"
    }
   ],
   "source": [
    "p2.show_cost()"
   ]
  },
  {
   "cell_type": "code",
   "execution_count": 26,
   "metadata": {
    "ExecuteTime": {
     "end_time": "2020-04-17T18:38:57.245840Z",
     "start_time": "2020-04-17T18:38:57.230107Z"
    }
   },
   "outputs": [],
   "source": [
    "class iPhone(Phone):\n",
    "    \n",
    "    def cure_cancer(self):\n",
    "        print(\"I can cure cancer.\")"
   ]
  },
  {
   "cell_type": "code",
   "execution_count": 27,
   "metadata": {
    "ExecuteTime": {
     "end_time": "2020-04-17T18:39:09.247729Z",
     "start_time": "2020-04-17T18:39:09.244589Z"
    }
   },
   "outputs": [],
   "source": [
    "iP1 = iPhone()"
   ]
  },
  {
   "cell_type": "code",
   "execution_count": 28,
   "metadata": {
    "ExecuteTime": {
     "end_time": "2020-04-17T18:39:32.224366Z",
     "start_time": "2020-04-17T18:39:32.209378Z"
    }
   },
   "outputs": [],
   "source": [
    "iP1.add_colour(\"green\")"
   ]
  },
  {
   "cell_type": "code",
   "execution_count": 29,
   "metadata": {
    "ExecuteTime": {
     "end_time": "2020-04-17T18:39:43.049804Z",
     "start_time": "2020-04-17T18:39:43.029963Z"
    }
   },
   "outputs": [],
   "source": [
    "iP1.add_cost(899)"
   ]
  },
  {
   "cell_type": "code",
   "execution_count": 30,
   "metadata": {
    "ExecuteTime": {
     "end_time": "2020-04-17T18:39:55.379264Z",
     "start_time": "2020-04-17T18:39:55.372762Z"
    }
   },
   "outputs": [
    {
     "name": "stdout",
     "output_type": "stream",
     "text": [
      "I can cure cancer.\n"
     ]
    }
   ],
   "source": [
    "iP1.cure_cancer()"
   ]
  },
  {
   "cell_type": "code",
   "execution_count": null,
   "metadata": {},
   "outputs": [],
   "source": []
  }
 ],
 "metadata": {
  "hide_input": false,
  "jupytext": {
   "formats": "ipynb,py:light"
  },
  "kernelspec": {
   "display_name": "Python 3.9",
   "language": "python",
   "name": "python3"
  },
  "language_info": {
   "codemirror_mode": {
    "name": "ipython",
    "version": 3
   },
   "file_extension": ".py",
   "mimetype": "text/x-python",
   "name": "python",
   "nbconvert_exporter": "python",
   "pygments_lexer": "ipython3",
   "version": "3.9.0"
  },
  "latex_envs": {
   "LaTeX_envs_menu_present": true,
   "autoclose": false,
   "autocomplete": true,
   "bibliofile": "biblio.bib",
   "cite_by": "apalike",
   "current_citInitial": 1,
   "eqLabelWithNumbers": true,
   "eqNumInitial": 1,
   "hotkeys": {
    "equation": "Ctrl-E",
    "itemize": "Ctrl-I"
   },
   "labels_anchors": false,
   "latex_user_defs": false,
   "report_style_numbering": false,
   "user_envs_cfg": false
  },
  "toc": {
   "base_numbering": 1,
   "nav_menu": {},
   "number_sections": true,
   "sideBar": true,
   "skip_h1_title": false,
   "title_cell": "Table of Contents",
   "title_sidebar": "Contents",
   "toc_cell": false,
   "toc_position": {},
   "toc_section_display": true,
   "toc_window_display": false
  },
  "varInspector": {
   "cols": {
    "lenName": 16,
    "lenType": 16,
    "lenVar": 40
   },
   "kernels_config": {
    "python": {
     "delete_cmd_postfix": "",
     "delete_cmd_prefix": "del ",
     "library": "var_list.py",
     "varRefreshCmd": "print(var_dic_list())"
    },
    "r": {
     "delete_cmd_postfix": ") ",
     "delete_cmd_prefix": "rm(",
     "library": "var_list.r",
     "varRefreshCmd": "cat(var_dic_list()) "
    }
   },
   "types_to_exclude": [
    "module",
    "function",
    "builtin_function_or_method",
    "instance",
    "_Feature"
   ],
   "window_display": false
  }
 },
 "nbformat": 4,
 "nbformat_minor": 4
}
